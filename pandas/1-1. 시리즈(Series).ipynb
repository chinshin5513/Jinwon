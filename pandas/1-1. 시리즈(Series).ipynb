# 판다스의 객체
# 1.

import pandas as pd
print(pd.__version__)
import numpy as np
